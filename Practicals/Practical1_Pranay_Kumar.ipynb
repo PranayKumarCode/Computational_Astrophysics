{
 "cells": [
  {
   "cell_type": "markdown",
   "metadata": {},
   "source": [
    "# Pranay Kumar\n",
    "## Coding practical #1"
   ]
  },
  {
   "cell_type": "code",
   "execution_count": 8,
   "metadata": {},
   "outputs": [],
   "source": [
    "import numpy as np"
   ]
  },
  {
   "cell_type": "markdown",
   "metadata": {},
   "source": [
    "# ⬤ First Five Odd Integers"
   ]
  },
  {
   "cell_type": "markdown",
   "metadata": {},
   "source": [
    "## List By Hand"
   ]
  },
  {
   "cell_type": "code",
   "execution_count": 9,
   "metadata": {
    "scrolled": true
   },
   "outputs": [
    {
     "name": "stdout",
     "output_type": "stream",
     "text": [
      "[1, 3, 5, 7, 9]\n"
     ]
    }
   ],
   "source": [
    "OddList1 = [1,3,5,7,9] #Manually written list of first five odd integers.\n",
    "print(OddList1)"
   ]
  },
  {
   "cell_type": "markdown",
   "metadata": {},
   "source": [
    "## List By For Loop"
   ]
  },
  {
   "cell_type": "code",
   "execution_count": 10,
   "metadata": {},
   "outputs": [
    {
     "name": "stdout",
     "output_type": "stream",
     "text": [
      "[1, 3, 5, 7, 9]\n"
     ]
    }
   ],
   "source": [
    "Integers = np.arange(1,10,1) #Generated list of first ten integers.\n",
    "OddList2 = [] #An empty list is created to store odd integers.\n",
    "for x in Integers:\n",
    "    if x%2==1:\n",
    "        OddList2.append(x) #For each value in the list integers, we are dividing it by zero, and if the remainder is greater than one, then we add it to the odd list we created.\n",
    "print(OddList2)"
   ]
  },
  {
   "cell_type": "markdown",
   "metadata": {},
   "source": [
    "## List By List Comprehension"
   ]
  },
  {
   "cell_type": "code",
   "execution_count": 11,
   "metadata": {
    "scrolled": true
   },
   "outputs": [
    {
     "name": "stdout",
     "output_type": "stream",
     "text": [
      "[1, 3, 5, 7, 9]\n"
     ]
    }
   ],
   "source": [
    "OddList3 = [x for x in range(10) if x%2==1] #Here we generate a list with the first five integers, but they are only added if the remainder is greater than zero, similar to the previous part.\n",
    "print(OddList3)"
   ]
  },
  {
   "cell_type": "markdown",
   "metadata": {},
   "source": [
    "## First Three Elements"
   ]
  },
  {
   "cell_type": "code",
   "execution_count": 12,
   "metadata": {},
   "outputs": [
    {
     "data": {
      "text/plain": "[1, 3, 5]"
     },
     "execution_count": 12,
     "metadata": {},
     "output_type": "execute_result"
    }
   ],
   "source": [
    "OddList1[0:3] #We print the first three elements which start at the zero element and continue until the third element."
   ]
  },
  {
   "cell_type": "markdown",
   "metadata": {},
   "source": [
    "## Last Three Elements"
   ]
  },
  {
   "cell_type": "code",
   "execution_count": 13,
   "metadata": {},
   "outputs": [
    {
     "data": {
      "text/plain": "[5, 7, 9]"
     },
     "execution_count": 13,
     "metadata": {},
     "output_type": "execute_result"
    }
   ],
   "source": [
    "OddList1[-3:] #We print a list of the last three elements by starting at element -3, which is just the 2nd element, and going forward."
   ]
  },
  {
   "cell_type": "markdown",
   "metadata": {},
   "source": [
    "# ⬤ 2-D List W/ Numbers and Integers"
   ]
  },
  {
   "cell_type": "code",
   "execution_count": 14,
   "metadata": {
    "scrolled": true
   },
   "outputs": [
    {
     "name": "stdout",
     "output_type": "stream",
     "text": [
      "Numbers and Letters\n",
      "[['0a' '0b' '0c']\n",
      " ['1a' '1b' '1c']\n",
      " ['2a' '2b' '2c']]\n",
      "The order of the for loops matters because it determines what element comes first, here I chose numbers first, but if I had chosen letters, then the order would be different.\n"
     ]
    }
   ],
   "source": [
    "Letters = [\"a\",\"b\",\"c\"] #Letters a,b,c converted to a string.\n",
    "IntegersNew = [\"0\",\"1\",\"2\"] #Numbers 0,1,2 converted to a string.\n",
    "NewList = [] #Empty list to hold the 2-D list.\n",
    "for x in IntegersNew:\n",
    "    for y in Letters:\n",
    "        NewList.append(x+y) #For all values in IntegersNew and then for all values in Letters, we add the elements and then append them into the new holding list.\n",
    "\n",
    "NewList2 = np.reshape(NewList, (3,3)) #Converting the array into a 3x3 matrix to make it easier to interpret.\n",
    "print(\"Numbers and Letters\")\n",
    "print(NewList2)\n",
    "print(\"The order of the for loops matters because it determines what element comes first, here I chose numbers first, but if I had chosen letters, then the order would be different.\")"
   ]
  },
  {
   "cell_type": "markdown",
   "metadata": {},
   "source": [
    "# ⬤ Negative Multiples of Three"
   ]
  },
  {
   "cell_type": "code",
   "execution_count": 15,
   "metadata": {
    "scrolled": true
   },
   "outputs": [
    {
     "name": "stdout",
     "output_type": "stream",
     "text": [
      "[0, 1, 2, -3, 4, 5, -6, 7, 8, -9, 10, 11, -12, 13, 14]\n"
     ]
    }
   ],
   "source": [
    "ArraySize = 14 #The integer we want to go up to.\n",
    "MultipleVariable=3 #The variable we want to find multiples of.\n",
    "Integers2 = np.array(range(ArraySize+1)) #Creating the array of up to the integer we designated earlier.\n",
    "ThreeMultiples = [] #An empty list to hold future values.\n",
    "for x in Integers2:\n",
    "    if x%MultipleVariable==0:\n",
    "        ThreeMultiples.append(x*-1) #For all elements in the array, we divide them by the variable we chose, and if the remainder is zero, then it is multiplied by negative one and added to the new list.\n",
    "    else:\n",
    "        ThreeMultiples.append(x) #Else if the remainder is not zero, then it is added to the list without being modified.\n",
    "print(ThreeMultiples)"
   ]
  },
  {
   "cell_type": "markdown",
   "metadata": {},
   "source": [
    "# ⬤ Integer Prime Function"
   ]
  },
  {
   "cell_type": "code",
   "execution_count": 16,
   "outputs": [
    {
     "name": "stdout",
     "output_type": "stream",
     "text": [
      "20  is not a prime number.\n"
     ]
    }
   ],
   "source": [
    "def PrimeCheck(n):\n",
    "    z = 0\n",
    "    for x in range(2,n-1):\n",
    "        if n%x != 0:\n",
    "            pass\n",
    "        else:\n",
    "            z = 1\n",
    "    if z==1:\n",
    "        print(n, \" is not a prime number.\")\n",
    "    else:\n",
    "        print(n, \" is a prime number\")\n",
    "PrimeCheck(20)"
   ],
   "metadata": {
    "collapsed": false
   }
  },
  {
   "cell_type": "code",
   "execution_count": 17,
   "metadata": {},
   "outputs": [
    {
     "name": "stdout",
     "output_type": "stream",
     "text": [
      "Prime numbers are     [1, 2, 3, 5, 7, 11, 13, 17, 19]\n",
      "Nonprime numbers are  [4, 6, 8, 9, 10, 12, 14, 15, 16, 18, 20]\n"
     ]
    }
   ],
   "source": [
    "def fullPrimeFunctionCheck(n):\n",
    "    PrimeList=[]\n",
    "    NonPrimeList=[]\n",
    "    z=0\n",
    "    for x in range(1,n): #Goes through all integers from 1 to n.\n",
    "        for y in range(2,x,1): #For the selected integer x, we then check for factors from 1 to x.\n",
    "            if x%y != 0:\n",
    "                pass #For all elements of y in the specified range, if the remainder of x divided y is not zero then the if statement passes.\n",
    "            else:\n",
    "                z=1 #Z gets set to one from zero if the value is divisible by element y in the specified range. This tells us that atleast one element from 2 to x-1 is a factor of x.\n",
    "        if z==1:\n",
    "            NonPrimeList.append(x) #If we know that x has some factor, then we can add it to the nonprime list.\n",
    "        else:\n",
    "            PrimeList.append(x) #Otherwise, n gets added to the prime list.\n",
    "        z=0\n",
    "    print(\"Prime numbers are    \",PrimeList)\n",
    "    print(\"Nonprime numbers are \",NonPrimeList)\n",
    "fullPrimeFunctionCheck(21)"
   ]
  },
  {
   "cell_type": "markdown",
   "metadata": {},
   "source": [
    "# ⬤ Column Matrix"
   ]
  },
  {
   "cell_type": "code",
   "execution_count": 18,
   "metadata": {},
   "outputs": [],
   "source": [
    "x1 = np.arange(1, 8, 1) #An array with integers from 1 to 7.\n",
    "x2 = np.arange(1, 8, 1)**2 #This array is array x1 squared.\n",
    "x3 = np.arange(1, 8, 1)**3 #This array is array x1 cubed.\n",
    "data = np.vstack((x1,x2,x3)) #Converting the three arrays to a matrix.\n",
    "transposed = np.transpose(data) #Transposing the matrix so that i, i^2, and i^3 are now columns with rows 1 to 7.\n",
    "np.savetxt('ColumnMatrix.txt',transposed)"
   ]
  },
  {
   "cell_type": "code",
   "execution_count": 19,
   "metadata": {},
   "outputs": [
    {
     "name": "stdout",
     "output_type": "stream",
     "text": [
      "[[  1.   1.   1.]\n",
      " [  2.   4.   8.]\n",
      " [  3.   9.  27.]\n",
      " [  4.  16.  64.]\n",
      " [  5.  25. 125.]\n",
      " [  6.  36. 216.]\n",
      " [  7.  49. 343.]]\n"
     ]
    }
   ],
   "source": [
    "ColumnMatrixNew = np.loadtxt('ColumnMatrix.txt')\n",
    "print(ColumnMatrixNew)"
   ]
  }
 ],
 "metadata": {
  "kernelspec": {
   "display_name": "Python 3 (ipykernel)",
   "language": "python",
   "name": "python3"
  },
  "language_info": {
   "codemirror_mode": {
    "name": "ipython",
    "version": 3
   },
   "file_extension": ".py",
   "mimetype": "text/x-python",
   "name": "python",
   "nbconvert_exporter": "python",
   "pygments_lexer": "ipython3",
   "version": "3.9.12"
  }
 },
 "nbformat": 4,
 "nbformat_minor": 4
}
